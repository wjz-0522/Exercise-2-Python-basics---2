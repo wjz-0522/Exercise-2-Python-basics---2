{
 "cells": [
  {
   "cell_type": "markdown",
   "metadata": {},
   "source": [
    "1. Ask user to enter a string and check that it is made up only alphabets:"
   ]
  },
  {
   "cell_type": "code",
   "execution_count": null,
   "metadata": {},
   "outputs": [],
   "source": [
    "input_string = input(\"请输入一个字符串：\")\n",
    "if input_string.isalpha():\n",
    "    print(\"字符串只包含字母。\")\n",
    "else:\n",
    "    print(\"字符串不全是字母。\")\n"
   ]
  },
  {
   "cell_type": "markdown",
   "metadata": {},
   "source": [
    "2. Now, make sure that the string is made up of both alphabets and numbers:\n",
    "\n",
    "TRY using isalnum() function and then entering only alhpabets in the string and see what happens."
   ]
  },
  {
   "cell_type": "code",
   "execution_count": null,
   "metadata": {},
   "outputs": [],
   "source": [
    "input_string = input(\"请输入一个字符串：\")\n",
    "if input_string.isalnum():\n",
    "    print(\"字符串包含字母和数字。\")\n",
    "else:\n",
    "    print(\"字符串必须只包含字母和数字。\")\n"
   ]
  },
  {
   "cell_type": "markdown",
   "metadata": {},
   "source": [
    "3. Now, make sure that the string is made up of both alphabets and at least one number:\n"
   ]
  },
  {
   "cell_type": "code",
   "execution_count": null,
   "metadata": {},
   "outputs": [],
   "source": [
    "input_string = input(\"请输入一个字符串：\")\n",
    "has_alphabets = any(c.isalpha() for c in input_string)\n",
    "has_numbers = any(c.isdigit() for c in input_string)\n",
    "\n",
    "if has_alphabets and has_numbers:\n",
    "    print(\"字符串包含字母和至少一个数字。\")\n",
    "else:\n",
    "    print(\"字符串必须包含字母和至少一个数字。\")\n"
   ]
  },
  {
   "cell_type": "markdown",
   "metadata": {},
   "source": [
    "4. Now, make sure that the string is made up of both alphabets, at least one number, and at least one special character:"
   ]
  },
  {
   "cell_type": "code",
   "execution_count": null,
   "metadata": {},
   "outputs": [],
   "source": [
    "input_string = input(\"请输入一个字符串：\")\n",
    "has_alphabets = any(c.isalpha() for c in input_string)\n",
    "has_numbers = any(c.isdigit() for c in input_string)\n",
    "has_special_char = any(not c.isalnum() for c in input_string)\n",
    "\n",
    "if has_alphabets and has_numbers and has_special_char:\n",
    "    print(\"字符串包含字母、至少一个数字和至少一个特殊字符。\")\n",
    "else:\n",
    "    print(\"字符串必须包含字母、至少一个数字和至少一个特殊字符。\")\n"
   ]
  },
  {
   "cell_type": "markdown",
   "metadata": {},
   "source": [
    "5. Now, modify the above code so that if the user enters an invalid string, the program should ask the user to enter another string again, and keep asking until a valid string has been entered."
   ]
  },
  {
   "cell_type": "code",
   "execution_count": null,
   "metadata": {},
   "outputs": [],
   "source": [
    "while True:\n",
    "    input_string = input(\"请输入一个字符串：\")\n",
    "    \n",
    "    has_alphabets = any(c.isalpha() for c in input_string)\n",
    "    has_numbers = any(c.isdigit() for c in input_string)\n",
    "    has_special_char = any(not c.isalnum() for c in input_string)\n",
    "    \n",
    "    if not has_alphabets:\n",
    "        print(\"字符串必须包含字母。\")\n",
    "    elif not has_numbers:\n",
    "        print(\"字符串必须包含至少一个数字。\")\n",
    "    elif not has_special_char:\n",
    "        print(\"字符串必须包含至少一个特殊字符。\")\n",
    "    else:\n",
    "        print(\"输入的字符串有效。\")\n",
    "        break\n"
   ]
  }
 ],
 "metadata": {
  "kernelspec": {
   "display_name": "Python 3",
   "language": "python",
   "name": "python3"
  },
  "language_info": {
   "codemirror_mode": {
    "name": "ipython",
    "version": 3
   },
   "file_extension": ".py",
   "mimetype": "text/x-python",
   "name": "python",
   "nbconvert_exporter": "python",
   "pygments_lexer": "ipython3",
   "version": "3.11.5"
  }
 },
 "nbformat": 4,
 "nbformat_minor": 2
}
